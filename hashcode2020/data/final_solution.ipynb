{
 "cells": [
  {
   "cell_type": "code",
   "execution_count": 1,
   "metadata": {},
   "outputs": [],
   "source": [
    "import numpy as np\n",
    "import pandas as pd\n",
    "import bisect\n",
    "import math\n",
    "import timeit"
   ]
  },
  {
   "cell_type": "code",
   "execution_count": 2,
   "metadata": {},
   "outputs": [],
   "source": [
    "class metadata():\n",
    "    def __init__(self, data):\n",
    "        self.numBooks, self.numLibrary, self.time = [int(x) for x in data.readline().split()]\n",
    "        self.scores = [int(x) for x in data.readline().split()]\n",
    "#         self.scores = []\n",
    "#         for index, item in enumerate(self.scores1):\n",
    "#             self.scores.append((index, item))\n",
    "#         self.scores1.sort(key = lambda x: x[1])\n",
    "        \n",
    "        self.libraries = []\n",
    "        for i in range(self.numLibrary):\n",
    "            self.libraries.append(Library(data, i, self.scores, self.time))\n",
    "        self.ScannedLib = []\n",
    "        \n",
    "\n",
    "class Library():\n",
    "    def __init__(self, data, libID, scores, totalTime):\n",
    "        \n",
    "#       Hyper parameters\n",
    "        alpha = 8\n",
    "        \n",
    "        self.libID = libID\n",
    "        self.numBooks, self.signUpTime, self.scanCap = [int(x) for x in data.readline().split()]\n",
    "        self.books = [(int(x), scores[int(x)]) for x in data.readline().split()]\n",
    "        self.books.sort(key = lambda x: x[1], reverse = True)\n",
    "        self.potentialBooks = self.books[:min(math.floor(self.scanCap * totalTime * alpha), len(self.books))]\n",
    "        self.score = 0\n",
    "        for i in self.potentialBooks:\n",
    "            self.score += i[1]\n",
    "        self.score = self.score / self.signUpTime\n",
    "            \n",
    "    def updateLib(self, lastSeen):\n",
    "        latest = []\n",
    "        currScore = 0\n",
    "        for b in self.potentialBooks:\n",
    "            if b not in lastSeen:\n",
    "                currScore += b[1]\n",
    "                latest.append(b)\n",
    "        self.potentialBooks = latest\n",
    "        self.score = currScore / self.signUpTime\n",
    "        return self.score    \n",
    "    \n",
    "    \n",
    "def calculate(meta):\n",
    "    scanning = False\n",
    "    endLastScan = -1\n",
    "    currT = 1\n",
    "    seen = set()\n",
    "    lastSeen = set()\n",
    "    result = []\n",
    "    while currT <= meta.time:        \n",
    "        if currT == endLastScan:\n",
    "            scanning = False\n",
    "        if not scanning:\n",
    "            currLib = None\n",
    "            scanning = True\n",
    "            currScore = -9999\n",
    "            for lib in meta.libraries:\n",
    "                if lib.updateLib(lastSeen) > currScore:\n",
    "                    currLib = lib\n",
    "                    currScore = currLib.score            \n",
    "            if currLib == None:\n",
    "#               No library remain\n",
    "                break\n",
    "            else:\n",
    "                endLastScan = currT + currLib.signUpTime\n",
    "                bookSize = min(len(currLib.potentialBooks) , currLib.scanCap * ((meta.time - currT - currLib.signUpTime + 1) * 2))\n",
    "                bookSize = max(0, bookSize)\n",
    "                books = currLib.potentialBooks[:bookSize]\n",
    "                if bookSize > 0:\n",
    "                    result.append([(currLib.libID, bookSize), [x[0] for x in books]])\n",
    "                    meta.libraries.remove(currLib)\n",
    "                lastSeen = set(books)                       \n",
    "        currT += 1\n",
    "    return result\n",
    "\n",
    "#  targetfilt: path to store the data\n",
    "#  data: a list of libraries to process [[(library_index, ), [book indicies]], ... ]\n",
    "def toOutput(targetfile, data):\n",
    "    f = open(targetfile, \"w+\")\n",
    "    size = len(data)\n",
    "    f.write(\"%d \\n\" % size)\n",
    "    for i in data:\n",
    "        f.write(str(i[0][0]) + \" \" + str(i[0][1]) + \"\\n\")\n",
    "        bookOrd = \"\"\n",
    "        for curr in i[1]:\n",
    "            bookOrd += str(curr) + \" \"\n",
    "        f.write(bookOrd[:-1] + \"\\n\")\n",
    "    f.close()"
   ]
  },
  {
   "cell_type": "code",
   "execution_count": 3,
   "metadata": {},
   "outputs": [],
   "source": [
    "# for l in meta.libraries:\n",
    "#     print(l.score)"
   ]
  },
  {
   "cell_type": "code",
   "execution_count": 4,
   "metadata": {},
   "outputs": [
    {
     "name": "stdout",
     "output_type": "stream",
     "text": [
      "CPU times: user 743 µs, sys: 1.28 ms, total: 2.03 ms\n",
      "Wall time: 1.57 ms\n"
     ]
    }
   ],
   "source": [
    "%%time\n",
    "# data = open('e_so_many_books.txt')\n",
    "data = open('a_example.txt')\n",
    "# sample_input\n",
    "toOutput(\"a_submit.txt\", calculate(metadata(data)))"
   ]
  },
  {
   "cell_type": "code",
   "execution_count": 5,
   "metadata": {},
   "outputs": [
    {
     "name": "stdout",
     "output_type": "stream",
     "text": [
      "CPU times: user 964 ms, sys: 11 ms, total: 975 ms\n",
      "Wall time: 978 ms\n"
     ]
    }
   ],
   "source": [
    "%%time\n",
    "data2 = open('b_read_on.txt')\n",
    "# sample_input\n",
    "toOutput(\"b_submit.txt\", calculate(metadata(data2)))"
   ]
  },
  {
   "cell_type": "code",
   "execution_count": 6,
   "metadata": {},
   "outputs": [
    {
     "name": "stdout",
     "output_type": "stream",
     "text": [
      "CPU times: user 44.7 s, sys: 117 ms, total: 44.8 s\n",
      "Wall time: 44.9 s\n"
     ]
    }
   ],
   "source": [
    "%%time\n",
    "data3 = open('c_incunabula.txt')\n",
    "# sample_input\n",
    "toOutput(\"c_submit.txt\", calculate(metadata(data3)))"
   ]
  },
  {
   "cell_type": "code",
   "execution_count": 7,
   "metadata": {},
   "outputs": [
    {
     "name": "stdout",
     "output_type": "stream",
     "text": [
      "CPU times: user 7min 12s, sys: 824 ms, total: 7min 13s\n",
      "Wall time: 7min 14s\n"
     ]
    }
   ],
   "source": [
    "%%time\n",
    "data4 = open('d_tough_choices.txt')\n",
    "# sample_input\n",
    "toOutput(\"d_submit.txt\", calculate(metadata(data4)))"
   ]
  },
  {
   "cell_type": "code",
   "execution_count": 8,
   "metadata": {},
   "outputs": [
    {
     "name": "stdout",
     "output_type": "stream",
     "text": [
      "CPU times: user 9.3 s, sys: 32.9 ms, total: 9.33 s\n",
      "Wall time: 9.34 s\n"
     ]
    }
   ],
   "source": [
    "%%time\n",
    "data5 = open('e_so_many_books.txt')\n",
    "# sample_input\n",
    "toOutput(\"e_submit.txt\", calculate(metadata(data5)))"
   ]
  },
  {
   "cell_type": "code",
   "execution_count": 9,
   "metadata": {},
   "outputs": [
    {
     "name": "stdout",
     "output_type": "stream",
     "text": [
      "CPU times: user 2.4 s, sys: 16.6 ms, total: 2.42 s\n",
      "Wall time: 2.42 s\n"
     ]
    }
   ],
   "source": [
    "%%time \n",
    "data6 = open('f_libraries_of_the_world.txt')\n",
    "# sample_input\n",
    "toOutput(\"f_submit.txt\", calculate(metadata(data6)))"
   ]
  },
  {
   "cell_type": "code",
   "execution_count": null,
   "metadata": {},
   "outputs": [],
   "source": []
  }
 ],
 "metadata": {
  "kernelspec": {
   "display_name": "Python 3",
   "language": "python",
   "name": "python3"
  },
  "language_info": {
   "codemirror_mode": {
    "name": "ipython",
    "version": 3
   },
   "file_extension": ".py",
   "mimetype": "text/x-python",
   "name": "python",
   "nbconvert_exporter": "python",
   "pygments_lexer": "ipython3",
   "version": "3.8.0"
  }
 },
 "nbformat": 4,
 "nbformat_minor": 2
}
