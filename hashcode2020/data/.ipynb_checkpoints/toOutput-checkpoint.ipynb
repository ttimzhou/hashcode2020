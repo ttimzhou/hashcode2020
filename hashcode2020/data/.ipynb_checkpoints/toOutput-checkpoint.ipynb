{
 "cells": [
  {
   "cell_type": "code",
   "execution_count": 1,
   "metadata": {},
   "outputs": [],
   "source": [
    "import numpy as np \n",
    "import pandas as pd"
   ]
  },
  {
   "cell_type": "code",
   "execution_count": null,
   "metadata": {},
   "outputs": [],
   "source": [
    "#  targetfilt: path to store the data\n",
    "#  data: a list of libraries to process [[(library_index, ), [book indicies]], ... ]\n",
    "def toOutput(targetfile, data):\n",
    "    f = open(targetfile, \"w+\")\n",
    "    size = len(data)\n",
    "    \n",
    "    f.write(\"%d/n\" % size)\n",
    "    for i in data:\n",
    "        f.write(str(i[0][0]) + \" \" + str(i[0][1] + \"\\n\")\n",
    "        bookOrd = \"\"\n",
    "        for curr in i[1]:\n",
    "            bookOrd += str(curr) + \" \"\n",
    "        f.write(bookOrd[:-1] + \"\\n\")\n",
    "    f.close()\n",
    "                \n",
    "input = [[(0, 5), [0, 1, 2, 3, 4]], [(1, 1), [5]]]\n",
    "                \n",
    "                \"a_submit.txt\"\n",
    "                \n",
    "                \n",
    "        \n",
    "        \n",
    "    "
   ]
  }
 ],
 "metadata": {
  "kernelspec": {
   "display_name": "Python 3",
   "language": "python",
   "name": "python3"
  },
  "language_info": {
   "codemirror_mode": {
    "name": "ipython",
    "version": 3
   },
   "file_extension": ".py",
   "mimetype": "text/x-python",
   "name": "python",
   "nbconvert_exporter": "python",
   "pygments_lexer": "ipython3",
   "version": "3.8.0"
  }
 },
 "nbformat": 4,
 "nbformat_minor": 2
}
