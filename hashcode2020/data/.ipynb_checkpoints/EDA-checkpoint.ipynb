{
 "cells": [
  {
   "cell_type": "code",
   "execution_count": 1,
   "metadata": {},
   "outputs": [],
   "source": [
    "import numpy as np\n",
    "import pandas as pd"
   ]
  },
  {
   "cell_type": "code",
   "execution_count": 18,
   "metadata": {},
   "outputs": [
    {
     "data": {
      "text/plain": [
       "0"
      ]
     },
     "execution_count": 18,
     "metadata": {},
     "output_type": "execute_result"
    }
   ],
   "source": [
    "data = open('a_example.txt')\n",
    "\n",
    "class metadata():\n",
    "    def __init__(self, data):\n",
    "        self.numBooks, self.numLibrary, self.time = [int(x) for x in data.readline().split()]\n",
    "        self.scores = [int(x) for x in data.readline().split()]\n",
    "        self.libraries = []\n",
    "        for i in range(self.numLibrary):\n",
    "            self.libraries.append(Library(data, i, self.scores))\n",
    "        \n",
    "            \n",
    "        \n",
    "        \n",
    "class Library():\n",
    "    def __init__(self, data, libID, scores):\n",
    "        self.libID = libID\n",
    "        self.signUpTime, self.scanCap, self.numBooks = [int(x) for x in data.readline().split()]\n",
    "        self.books = [int(x) for x in data.readline().split()]\n",
    "        self.score = 0\n",
    "        for i in self.books:\n",
    "            self.score += scores[i]\n",
    "    "
   ]
  },
  {
   "cell_type": "code",
   "execution_count": null,
   "metadata": {},
   "outputs": [],
   "source": []
  }
 ],
 "metadata": {
  "kernelspec": {
   "display_name": "Python 3",
   "language": "python",
   "name": "python3"
  },
  "language_info": {
   "codemirror_mode": {
    "name": "ipython",
    "version": 3
   },
   "file_extension": ".py",
   "mimetype": "text/x-python",
   "name": "python",
   "nbconvert_exporter": "python",
   "pygments_lexer": "ipython3",
   "version": "3.8.0"
  }
 },
 "nbformat": 4,
 "nbformat_minor": 2
}
